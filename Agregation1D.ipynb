{
 "cells": [
  {
   "cell_type": "markdown",
   "id": "0033a4da",
   "metadata": {},
   "source": [
    "# Résolution de l'équation d'agrégation 1D par volumes finis\n",
    "\n",
    "L'équation d'agrégation décrit le phénomène d'agrégation dans une population d'individus qui interagit sous un potentiel d'interaction continu $W$. Si $\\rho$ désigne la densité d'individus, sa dynamique est donnée par l'équation de conservation suivante :\n",
    "\n",
    "$$\n",
    "\\begin{cases}\n",
    "\\partial_t\\rho &= \\nabla . ((\\nabla W * \\rho)\\rho), \\\\\n",
    "\\rho(0) &= \\rho_0. \\\\\n",
    "\\end{cases}\n",
    "$$\n",
    "\n",
    "L'inconnue $\\rho$ est une mesure de probabilité paramétrée par le temps (sur $[-1, 1]$ par exemple).\n",
    "La première ligne est une EDP que l'on peut réécrire sous la forme suivante dans le cas 1D :\n",
    "\n",
    "$$\n",
    "\\frac{\\partial \\rho}{\\partial t} = \\frac{\\partial}{\\partial x} \\left((W' * \\rho)\\rho\\right). \\\\\n",
    "$$\n",
    "\n",
    "La deuxième ligne correspond au profil initial de la mesure.\n",
    "\n",
    "**Schéma utilisé :**\n",
    "\n",
    "On se donne un maillage uniforme $-1 = x_0 < x_i < ... < x_N = 1~$ sur $[-1,1].$\n",
    "On définit $\\rho_i^n :=$ approximation de $\\rho$ sur la cellule $\\mathcal{C}_i:=[x_{i-1/2},x_{i+1/2}]$ au temps $t^n$.\n",
    "$\\rho_i^n$ est donné par le schéma suivant :\n",
    "\n",
    "$$\\rho_i^{n+1}=\\rho_i^{n}-\\frac{\\Delta t}{\\Delta x}(\\mathcal{F}_{i+1/2}-\\mathcal{F}_{i-1/2}).$$\n",
    "\n",
    "avec :\n",
    "$$\\mathcal{F}_{i+1/2}=(a_i^n)^+\\rho_i^n-(a_{i+1}^n)^-\\rho_{i+1}^n,$$\n",
    "et $$a_i^n=-\\sum_{l=0}^{N}\\rho_l^n W'(x_i-x_l).$$\n",
    "\n",
    "Ce dernier terme est appelé vitesse macroscopique de la cellule $\\mathcal{C}_i$ au temps $t^n$ ; car il s'agit de la discrétisation de la vitesse de l'EDP vue comme équation de transport.\n",
    "\n",
    "Le schéma est décrit plus en détail dans [[1]](https://arxiv.org/pdf/1912.06423.pdf) et [[2]](https://arxiv.org/pdf/1602.05746.pdf)."
   ]
  },
  {
   "cell_type": "markdown",
   "id": "4cabd291",
   "metadata": {},
   "source": [
    "## Sommaire :\n",
    "* [Paramètres/fonctions du problème](#t1)\n",
    "* [Remarque sur la normalisation de la condition initiale](#t2)\n",
    "* [Calcul de la matrice des interactions et necessité de vectoriser](#t3)\n",
    "* [Implémentation du schéma](#t4)\n",
    "* [Optimisation avec FFT](#t5)\n",
    "* [Et pourquoi pas des différences finies ?](#t6)"
   ]
  },
  {
   "cell_type": "code",
   "execution_count": 1,
   "id": "1589ef84",
   "metadata": {},
   "outputs": [],
   "source": [
    "# Importations :\n",
    "import numpy as np\n",
    "import matplotlib.pyplot as plt\n",
    "import os\n",
    "import time"
   ]
  },
  {
   "cell_type": "markdown",
   "id": "decef21a",
   "metadata": {},
   "source": [
    "### Définition des paramètres et fonctions du problème <a class=\"anchor\" id=\"t1\"></a>"
   ]
  },
  {
   "cell_type": "code",
   "execution_count": 2,
   "id": "42b311ab",
   "metadata": {},
   "outputs": [
    {
     "data": {
      "image/png": "[encoded data removed]",
      "text/plain": [
       "<Figure size 432x288 with 1 Axes>"
      ]
     },
     "metadata": {
      "needs_background": "light"
     },
     "output_type": "display_data"
    }
   ],
   "source": [
    "# Potentiel d'interaction et sa dérivée :\n",
    "# W  = lambda x : np.abs(x) # Potentiel d'interaction\n",
    "dxW = lambda x : np.sign(x) # Dérivée de W\n",
    "\n",
    "# Fonction pour initialiser la solution :\n",
    "rho_ini = lambda x : np.exp(-x*x/2/0.01)/np.sqrt(2*np.pi*0.01)\n",
    "\n",
    "# Définition de la grille :\n",
    "xmin = -1  # Borne de gauche du domaine\n",
    "xmax = 1   # Borne de droite du domaine\n",
    "Nx   = 1024 # Nombre de points de la discrétisation en espace\n",
    "grid = np.linspace(xmin, xmax, Nx) # Grille\n",
    "Dx   = grid[1]-grid[0] # Pas d'espace\n",
    "\n",
    "# Discrétisation en temps :\n",
    "Nt = 5000 # Nombre de points de la discrétisation en temps\n",
    "tf = 1.   # Temps final\n",
    "T  = np.linspace(0, tf, Nt) # Temps discrets\n",
    "Dt = T[1]-T[0] # Pas de temps\n",
    "\n",
    "plt.plot(grid, rho_ini(grid))\n",
    "plt.show()"
   ]
  },
  {
   "cell_type": "markdown",
   "id": "ddf6038d",
   "metadata": {},
   "source": [
    "### Remarque sur la normalisation de la condition initiale <a class=\"anchor\" id=\"t2\"></a>\n",
    "\n",
    "On constate expérimentalement que l'équation donne une masse de Dirac en temps fini. Ce comportement est l'analogue continu de la convergence des points au centre de masse dans le modèle discret. On peut alors remarquer que, pour le schéma volumes finis utilisé, une masse de Dirac correspond à toute la masse concentrée dans deux cellules (c'est le cas du moins sur les tests effectués). Comme le schéma a la propriété de conserver la masse, il est clair qu'on peut aboutir à un problème d'overflow quand le pas $\\Delta x$ devient petit.\n",
    "\n",
    "En normalisant la condition initiale, il est possible de raffiner le maillage sans rencontrer ce problème d'overflow. En faisant _rho /= sum(rho)_, on obtient une condition initiale dont la masse totale est $\\Delta x$ :\n",
    "\n",
    "$$\\text{Masse totale}~ = \\left(\\sum_i \\Delta x\\rho_i\\right)/\\sum_i \\rho_i = \\Delta x.$$\n",
    "\n",
    "Et alors comme une masse de Dirac correspond à toute la masse concentrée dans deux cellules , la hauteur de la mesure vérifie :\n",
    "\n",
    "$$\\text{Masse totale}~ = \\Delta x = \\text{hauteur}\\times2\\Delta x,$$\n",
    "\n",
    "d'où l'on tire que la hauteur maximale est $1/2$. Expérimentalement, c'est bien ce qu'on retrouve aussi.\n",
    "\n",
    "**Update :** en multipliant les exemples, on peut observer des cas où la masse de Dirac est concentrée dans une à deux cellules. Alors en fait la hauteur finale n'est pas exactement $1/2$ mais elle est comprise entre $1/2$ et $1$."
   ]
  },
  {
   "cell_type": "markdown",
   "id": "bb3d6a12",
   "metadata": {},
   "source": [
    "### Calcul de la matrice _Wp_ et necessité de vectoriser <a class=\"anchor\" id=\"t3\"></a>\n",
    "\n",
    "On voit à la lecture du schéma qu'à chaque étape de temps, on va avoir besoin des valeurs $W'(x_i-x_l), ~\n",
    "0\\leq i,l\\leq N$. Comme $W$ ne dépend pas du temps, on peut stocker ces valeurs une bonne fois pour toutes dans une matrice _Wp_ en dehors de la boucle en temps. Selon le raffinement du maillage, cette matrice peut admettre un nombre élevé de coefficients. Apparaît alors la necessité de vectoriser le calcul de cette matrice.\n",
    "\n",
    "Avec le module _time_, on peut regarder à quel point la version vectorisée du calcul de _Wp_ est plus efficace. C'est ce qui est fait dans la cellule qui suit."
   ]
  },
  {
   "cell_type": "code",
   "execution_count": 3,
   "id": "6dae17eb",
   "metadata": {
    "scrolled": true
   },
   "outputs": [
    {
     "name": "stdout",
     "output_type": "stream",
     "text": [
      "Temps d’exécution pour la version non vectorisée : 1.6358962059020996\n",
      "Temps d’exécution pour la version semi-vectorisée : 0.011240243911743164\n",
      "Temps d’exécution pour la version vectorisé : 0.012778997421264648\n"
     ]
    }
   ],
   "source": [
    "# Comparaison des vitesses d'execution :\n",
    "\n",
    "# Première version, non vectorisée :\n",
    "tps1 = time.time()\n",
    "Wp = np.zeros((Nx, Nx))\n",
    "for i,xi in enumerate(grid):\n",
    "    for j,xj in enumerate(grid):\n",
    "        Wp[i,j] = dxW(xi-xj)\n",
    "tps2 = time.time()\n",
    "print(\"Temps d’exécution pour la version non vectorisée :\", tps2 - tps1)\n",
    "\n",
    "# Seconde version, semi-vectorisée :\n",
    "tps1 = time.time()\n",
    "Wp = np.zeros((Nx, Nx))\n",
    "for i,xi in enumerate(grid):\n",
    "    Wp[i] = dxW(xi-grid)\n",
    "tps2 = time.time()\n",
    "print(\"Temps d’exécution pour la version semi-vectorisée :\", tps2 - tps1)\n",
    "\n",
    "# On peut faire encore mieux...\n",
    "# Version totalement vectorisée :\n",
    "tps1 = time.time()\n",
    "Wp = dxW(np.tile(grid.reshape((Nx, 1)), (1, Nx)) - grid)\n",
    "tps2 = time.time()\n",
    "print(\"Temps d’exécution pour la version vectorisé :\", tps2 - tps1)"
   ]
  },
  {
   "cell_type": "markdown",
   "id": "aaba4489",
   "metadata": {},
   "source": [
    "Chaque vectorisation permet de gagner un temps considérable."
   ]
  },
  {
   "cell_type": "markdown",
   "id": "894cead8",
   "metadata": {},
   "source": [
    "### Implémentation du schéma <a class=\"anchor\" id=\"t4\"></a>\n",
    "\n",
    "Le calcul de _a_ peut se faire comme un produit matrice-vecteur. C'est ce qui est fait dans la cellule qui suit."
   ]
  },
  {
   "cell_type": "code",
   "execution_count": 4,
   "id": "7a0278ac",
   "metadata": {
    "scrolled": true
   },
   "outputs": [
    {
     "data": {
      "image/png": "[encoded data removed]",
      "text/plain": [
       "<Figure size 432x288 with 1 Axes>"
      ]
     },
     "metadata": {
      "needs_background": "light"
     },
     "output_type": "display_data"
    },
    {
     "name": "stdout",
     "output_type": "stream",
     "text": [
      "Masse totale initiale : 0.9999999999999994\n"
     ]
    },
    {
     "data": {
      "image/png": "[encoded data removed]",
      "text/plain": [
       "<Figure size 432x288 with 1 Axes>"
      ]
     },
     "metadata": {
      "needs_background": "light"
     },
     "output_type": "display_data"
    },
    {
     "name": "stdout",
     "output_type": "stream",
     "text": [
      "Masse totale finale : 0.9999999999999958\n"
     ]
    }
   ],
   "source": [
    "# Création du fichier pour la sauvegarde des figures :\n",
    "if not os.path.exists('./figures1'):\n",
    "    os.makedirs('./figures1')\n",
    "\n",
    "tps1 = time.time() # Début chrono v1 du schéma\n",
    "\n",
    "# Condition initiale :\n",
    "rho  = rho_ini(grid)\n",
    "s    = sum(rho)\n",
    "rho /= s # Normalisation\n",
    "\n",
    "# Plot de la condition initiale :\n",
    "plt.plot(grid, rho)\n",
    "plt.title(\"Condition initiale\")\n",
    "plt.show()\n",
    "print(\"Masse totale initiale :\", sum(rho))\n",
    "\n",
    "a      = np.zeros(Nx) # Pour la vitesse macroscopique a\n",
    "rho_dp = np.zeros(Nx) # Pour contenir un vecteur \"avec décalage\"\n",
    "rho_gm = np.zeros(Nx) # Pour contenir un vecteur \"avec décalage\"\n",
    "\n",
    "# Calcul de Wp :\n",
    "Wp = dxW(np.tile(grid.reshape((Nx, 1)), (1, Nx)) - grid)\n",
    "\n",
    "# Boucle de résolution :\n",
    "cpt = 0 # Nombre de sauvegardes\n",
    "for n,t in enumerate(T):\n",
    "\n",
    "    # Calcul de la vitesse macroscopique a :\n",
    "    # (Avec produit matriciel)\n",
    "    a = - np.dot(Wp,rho)\n",
    "    \n",
    "    # Mise à jour de rho :\n",
    "    ap = a*(a>0)  # Partie positive de a\n",
    "    am = -a*(a<0) # Partie négative de a\n",
    "    rho_dp[1:]  = ap[:-1]*rho[:-1]\n",
    "    rho_gm[:-1] = am[1:]*rho[1:]\n",
    "    rho -= Dt/Dx*(ap*rho-rho_gm-rho_dp+am*rho)\n",
    "    \n",
    "    # Pour un affichage de la solution à intervalles réguliers :\n",
    "    if (not n%100):\n",
    "        cpt += 1\n",
    "        r = round(t, 2)\n",
    "        plt.plot(grid, rho)\n",
    "        plt.ylim([0, 0.6])\n",
    "        plt.title(\"t = \"+str(r))\n",
    "        plt.savefig(\"./figures1/etape\"+str(cpt)+\".pdf\", facecolor='white', transparent=False)\n",
    "        plt.clf()\n",
    "        #plt.show()\n",
    "        #print(\"t =\", r, \"; masse totale :\", s*Dx*sum(rho))\n",
    "\n",
    "tps2 = time.time() # Fin chrono v1 du schéma\n",
    "\n",
    "# Plot de la solution finale :\n",
    "plt.plot(grid, rho)\n",
    "plt.title(\"Solution à t=\"+str(round(t, 2)))\n",
    "plt.show()\n",
    "print(\"Masse totale finale :\", sum(rho))"
   ]
  },
  {
   "cell_type": "markdown",
   "id": "b5cfb2cd",
   "metadata": {},
   "source": [
    "### Optimisation avec FFT <a class=\"anchor\" id=\"t5\"></a>\n",
    "\n",
    "Nous allons voir une autre façon de calculer la vitesse macroscopique qui repose sur la structure particulière de la matrice et l'utilisation de la FFT. Cette autre façon de faire sera non seulement plus efficace en temps (grâce à la FFT) mais aussi en espace (puisqu'elle permettra de ne stocker qu'une partie des coefficients la matrice _Wp_).\n",
    "\n",
    "**Plus précisément :** on souhaite calculer efficacement $a_i^n=-\\sum_{l=0}^{N}\\rho_l^n W'(x_i-x_l).$ On a vu que ça pouvait être fait comme un produit matrice-vecteur  _a = - np.dot(Wp, rho)_. Mais _Wp_ n'est pas quelconque. Il s'agit d'une [matrice de Toeplitz](https://fr.wikipedia.org/wiki/Matrice_de_Toeplitz). En effet, le coefficient $(i,j)$ de _Wp_ est égal à $W'(x_i-x_j) = W'(x_{i+1}-x_{j+1})$ (dans le cas d'un maillage uniforme) ; c'est à dire le coefficient $(i+1,j+1)$ de _Wp_. Le produit de cette matrice avec un vecteur peut alors être fait en utilisant _scipy.linalg.matmul_toeplitz_ (plus de détails [ici](https://docs.scipy.org/doc/scipy/reference/generated/scipy.linalg.matmul_toeplitz.html)). La fonction repose sur l'utilisation de la FFT, ce qui la rend asymptotiquement plus efficace qu'un _np.dot_. La documentation explique que seules la première ligne et la première colonne sont nécessaires. En plus de ça, la matrice est antisymétrique (car $W$ est paire). Alors on a juste besoin de stocker la première ligne (ou la première colonne)."
   ]
  },
  {
   "cell_type": "code",
   "execution_count": 5,
   "id": "e85bc4ab",
   "metadata": {},
   "outputs": [
    {
     "name": "stdout",
     "output_type": "stream",
     "text": [
      "Le schéma avec FFT est  1.0426906905242086 plus rapide avec les paramètres donnés.\n"
     ]
    },
    {
     "data": {
      "text/plain": [
       "<Figure size 432x288 with 0 Axes>"
      ]
     },
     "metadata": {},
     "output_type": "display_data"
    }
   ],
   "source": [
    "from scipy.linalg import matmul_toeplitz # Pour multiplier des matrices de Toeplitz\n",
    "\n",
    "# Création du fichier pour la sauvegarde des figures :\n",
    "if not os.path.exists('./figures2'):\n",
    "    os.makedirs('./figures2')\n",
    "    \n",
    "tps3 = time.time() # Début chrono v2 du schéma\n",
    "\n",
    "# Condition initiale :\n",
    "rho  = rho_ini(grid)\n",
    "s    = sum(rho)\n",
    "rho /= s # Normalisation\n",
    "\n",
    "a      = np.zeros(Nx) # Pour la vitesse macroscopique a\n",
    "rho_dp = np.zeros(Nx) # Pour contenir un vecteur \"avec décalage\"\n",
    "rho_gm = np.zeros(Nx) # Pour contenir un vecteur \"avec décalage\"\n",
    "\n",
    "# Calcul de la première ligne de Wp\n",
    "l = dxW(grid[0]-grid)\n",
    "\n",
    "# Boucle de résolution :\n",
    "cpt = 0 # Nombre de sauvegardes\n",
    "for n,t in enumerate(T):\n",
    "\n",
    "    # Calcul de la vitesse macroscopique a :\n",
    "    # (Avec FFT sous-jacente)\n",
    "    a = -matmul_toeplitz((-l, l), rho)\n",
    "    \n",
    "    # Mise à jour de rho :\n",
    "    ap = a*(a>0)  # Partie positive de a\n",
    "    am = -a*(a<0) # Partie négative de a\n",
    "    rho_dp[1:]  = ap[:-1]*rho[:-1]\n",
    "    rho_gm[:-1] = am[1:]*rho[1:]\n",
    "    rho -= Dt/Dx*(ap*rho-rho_gm-rho_dp+am*rho)\n",
    "    \n",
    "    # Pour un affichage de la solution à intervalles réguliers :\n",
    "    if (not n%100):\n",
    "        cpt += 1\n",
    "        r = round(t, 2)\n",
    "        plt.plot(grid, rho)\n",
    "        plt.ylim([0, 0.6])\n",
    "        plt.title(\"t = \"+str(r))\n",
    "        plt.savefig(\"./figures2/etape\"+str(cpt)+\".pdf\", facecolor='white', transparent=False)\n",
    "        plt.clf()\n",
    "        #plt.show()\n",
    "        #print(\"t =\", r, \"; masse totale :\", s*Dx*sum(rho))\n",
    "        \n",
    "tps4 = time.time() # Fin chrono v2 du schéma\n",
    "\n",
    "print(\"Le schéma avec FFT est \", (tps2-tps1)/(tps4-tps3), \"plus rapide avec les paramètres donnés.\")"
   ]
  },
  {
   "cell_type": "markdown",
   "id": "129703b5",
   "metadata": {},
   "source": [
    "### Et pourquoi pas des différences finies ? <a class=\"anchor\" id=\"t6\"></a>\n",
    "\n",
    "A priori, ça **n'est pas une bonne idée** dans la mesure où la solution va converger vers une masse de Dirac ; qui n'est pas une fonction dérivable. Rien n'empêche d'essayer quand même. La discrétisation proposée est la suivante :\n",
    "\n",
    "$$ \\frac{\\rho_i^{n+1}-\\rho_i^{n}}{\\Delta t} = \\frac{\\rho_{i+1}^{n}(W'*\\rho^n)_{i+1}-\\rho_{i-1}^{n}(W'*\\rho^n)_{i-1}}{2 \\Delta x}.$$\n",
    "\n",
    "Et en notant $a_i^n$ la discrétisation de la vitesse macroscopique :\n",
    "\n",
    "$$ \\rho_i^{n+1} = \\rho_i^{n} + \\frac{\\Delta t}{2 \\Delta x}\\left(\\rho_{i+1}^n a_{i+1}^n-\\rho_{i-1}^n a_{i-1}^n \\right).$$"
   ]
  },
  {
   "cell_type": "code",
   "execution_count": 6,
   "id": "c90bdc71",
   "metadata": {},
   "outputs": [
    {
     "data": {
      "image/png": "[encoded data removed]",
      "text/plain": [
       "<Figure size 432x288 with 1 Axes>"
      ]
     },
     "metadata": {
      "needs_background": "light"
     },
     "output_type": "display_data"
    },
    {
     "name": "stdout",
     "output_type": "stream",
     "text": [
      "Masse totale finale : 1.0000000000000078\n"
     ]
    }
   ],
   "source": [
    "# Création du fichier pour la sauvegarde des figures :\n",
    "if not os.path.exists('./figures3'):\n",
    "    os.makedirs('./figures3')\n",
    "\n",
    "Wp = dxW(np.tile(grid.reshape((Nx, 1)), (1, Nx)) - grid)\n",
    "\n",
    "# Condition initiale :\n",
    "rho  = rho_ini(grid)\n",
    "s    = sum(rho)\n",
    "rho /= s # Normalisation\n",
    "\n",
    "# Plot de la condition initiale :\n",
    "#plt.plot(grid, rho)\n",
    "#plt.show()\n",
    "#print(\"Masse totale initiale :\", sum(rho))\n",
    "\n",
    "a      = np.zeros(Nx) # Pour la vitesse macroscopique a\n",
    "rhoa_d = np.zeros(Nx) # Pour contenir un vecteur \"avec décalage\"\n",
    "rhoa_g = np.zeros(Nx) # Pour contenir un vecteur \"avec décalage\"\n",
    "\n",
    "# Calcul de Wp \"factorisé\"\n",
    "Wp = dxW(np.tile(grid.reshape((Nx, 1)), (1, Nx)) - grid)\n",
    "\n",
    "# Boucle de résolution :\n",
    "cpt = 0 # Nombre de sauvegardes\n",
    "for n,t in enumerate(T):\n",
    "\n",
    "    # Calcul de la vitesse macroscopique a :\n",
    "    # (Avec produit matriciel)\n",
    "    a = np.dot(Wp, rho)\n",
    "    \n",
    "    # Mise à jour de rho :\n",
    "    rhoa_d[1:]  = a[:-1]*rho[:-1]\n",
    "    rhoa_g[:-1] = a[1:]*rho[1:]\n",
    "    rho += 0.5*Dt/Dx*(rhoa_g - rhoa_d)\n",
    "    \n",
    "    # Pour un affichage de la solution à intervalles réguliers :\n",
    "    if (not n%100):\n",
    "        cpt += 1\n",
    "        r = round(t, 2)\n",
    "        plt.plot(grid, rho)\n",
    "        plt.ylim([0, 0.6])\n",
    "        plt.title(\"t = \"+str(r))\n",
    "        plt.savefig(\"./figures3/etape\"+str(cpt)+\".pdf\", facecolor='white', transparent=False)\n",
    "        plt.clf()\n",
    "        #plt.show()\n",
    "        #print(\"t =\", r, \"; masse totale :\", sum(rho))\n",
    "\n",
    "# Plot de la solution finale :\n",
    "plt.plot(grid, rho)\n",
    "plt.title(\"Solution à t=\"+str(round(t, 2)))\n",
    "plt.show()\n",
    "print(\"Masse totale finale :\", sum(rho))"
   ]
  },
  {
   "cell_type": "markdown",
   "id": "a9c224e6",
   "metadata": {},
   "source": [
    "**Ça ne marche clairement pas.**\n",
    "Encore une fois, il est necessaire de normaliser pour ne pas obtenir d'overflow dès les premières itérations. La dynamique semble correcte pour des temps très petits, tant que la solution n'est pas trop pointue. Passé le dixième de seconde, les résultats commencent à devenir mauvais."
   ]
  }
 ],
 "metadata": {
  "kernelspec": {
   "display_name": "Python 3",
   "language": "python",
   "name": "python3"
  },
  "language_info": {
   "codemirror_mode": {
    "name": "ipython",
    "version": 3
   },
   "file_extension": ".py",
   "mimetype": "text/x-python",
   "name": "python",
   "nbconvert_exporter": "python",
   "pygments_lexer": "ipython3",
   "version": "3.8.5"
  }
 },
 "nbformat": 4,
 "nbformat_minor": 5
}
