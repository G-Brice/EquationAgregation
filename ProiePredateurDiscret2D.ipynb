{
 "cells": [
  {
   "cell_type": "markdown",
   "id": "9613f197",
   "metadata": {},
   "source": [
    "# Résolution du modèle proie-prédateur discret\n",
    "\n",
    "Il s'agit ici de résoudre le modèle proie-prédateur discret donné dans [[1]](http://people.disim.univaq.it/~mdifrance/Preda_predatore_revised) et aussi évoqué dans [[2]](https://arxiv.org/pdf/1912.06423.pdf).\n",
    "\n",
    "Pour rappel, le modèle en question est un système différentiel qui prend la forme suivante :\n",
    "\n",
    "$$\\begin{cases}\n",
    "\\mathbf{\\overset{.}{x_i}} &=-\\sum_{k=1}^{N_1} m_{1k}\\nabla S_1(\\mathbf{x_i}-\\mathbf{x_k}) -\\sum_{h=1}^{N_2} m_{2h}\\nabla K(\\mathbf{x_i}-\\mathbf{y_h}), \\\\\n",
    "\\mathbf{\\overset{.}{y_j}} &=-\\sum_{h=1}^{N_2} m_{2h}\\nabla S_2(\\mathbf{y_j}-\\mathbf{y_h}) +\\alpha\\sum_{k=1}^{N_1} m_{1k}\\nabla K(\\mathbf{y_j}-\\mathbf{x_k}). \\\\\n",
    "\\end{cases}$$\n",
    "\n",
    "$N_1$ correspond au nombre de prédateurs, $N_2$ au nombre de proies et $\\alpha$ à la vitesse des proies. Pour plus de contexte, se référer aux sources citées avant.\n",
    "\n",
    "Pour simplifier, on postule que les individus d'une espèce ont tous la même masse et que la masse totale d'une espèce est $1$. De cette façon, $m_{1k}=\\frac{1}{N_1}$ pour tout $k$ et $m_{1h}=\\frac{1}{N_2}$ pour tout $h$.\n",
    "\n",
    "## Sommaire :\n",
    "* [Paramètres/fonctions du problème](#t1)\n",
    "* [Implémentation du schéma (Euler explicite)](#t2)"
   ]
  },
  {
   "cell_type": "code",
   "execution_count": 1,
   "id": "716e6f36",
   "metadata": {},
   "outputs": [],
   "source": [
    "# Importations :\n",
    "from numpy import *\n",
    "import numpy.matlib as matl\n",
    "import matplotlib.pyplot as plt\n",
    "from pylab import *\n",
    "import time\n",
    "import os"
   ]
  },
  {
   "cell_type": "markdown",
   "id": "b4fa38c9",
   "metadata": {},
   "source": [
    "### Paramètres/fonctions du problème <a class=\"anchor\" id=\"t1\"></a>\n",
    "\n",
    "**Remarque pour clarifier le code :** les potentiels $S_1,S_2$ et $K$ sont des fonctions radiales. Alors par exemple on peut écrire $S_1(\\mathbf{x})=s_1(|\\mathbf{x}|)$. Par une chain rule, on a ensuite $\\nabla S_1(\\mathbf{x})=\\nabla\\left[s_1(|\\mathbf{x}|)\\right]=\\frac{\\mathbf{x}}{|\\mathbf{x}|}s_1'(|\\mathbf{x}|)$. La fonction $s_1'$ apparaît dans le code sous le nom _s1prime_. Les autres potentiels sont traités de façon identique. On voit dans l'expression du gradient qu'il faudra faire attention aux possibles divisions par $0$, si $\\mathbf{x}$ est le vecteur nul."
   ]
  },
  {
   "cell_type": "code",
   "execution_count": 2,
   "id": "d3514f50",
   "metadata": {},
   "outputs": [],
   "source": [
    "def s1prime(r):\n",
    "    #return r*np.exp(-r*r)\n",
    "    return 0*(r==0)+0.1*(r>0)\n",
    "\n",
    "def s2prime(r):\n",
    "    #return r*np.exp(-r*r)\n",
    "    return 0*(r==0)+0.1*(r>0)\n",
    "\n",
    "def kprime(r):\n",
    "    #return r*np.exp(-r*r)\n",
    "    return 0*(r==0)+1*(r>0)\n",
    "\n",
    "# Paramètres sur les individus & le temps de la simulation :\n",
    "N1   = 400         # Number of particles 1\n",
    "N2   = 400         # Number of particles 2\n",
    "alpha = 0.3        # Vitesse des proies\n",
    "dt  = 0.005        # Pas de temps\n",
    "T   = 5.            # Temps final\n",
    "nT  = int(T/(dt))  # Nombre de pas de temps\n",
    "\n",
    "# Prédateurs dans le coin inférieur gauche\n",
    "#x1  = zeros((N1,1))\n",
    "#y1  = zeros((N1,1))\n",
    "\n",
    "# Prédateur tirés uniformément dans [0,0.5]^2\n",
    "x1 = 0.5*rand(N1,1)\n",
    "y1 = 0.5*rand(N1,1)\n",
    "\n",
    "# Proies tirées uniformément dans un cercle :\n",
    "#theta = 2*pi*rand(N2,1)      # Tirage de l'angle (uniforme)\n",
    "#r     = 0.1*sqrt(rand(N2,1)) # Tirage du rayon (avec biais pour uniformité)\n",
    "#x2    = 0.2+r*cos(theta)\n",
    "#y2    = 0.2+r*sin(theta)\n",
    "\n",
    "# Proies tirés uniformément dans [0,0.5]^2\n",
    "x2 = 0.5*rand(N1,1)\n",
    "y2 = 0.5*rand(N1,1)\n",
    "\n",
    "# Vecteurs intermédiaires\n",
    "dx1 = zeros((N1,1))\n",
    "dy1 = zeros((N1,1))\n",
    "dx2 = zeros((N2,1))\n",
    "dy2 = zeros((N2,1))"
   ]
  },
  {
   "cell_type": "markdown",
   "id": "5028545c",
   "metadata": {},
   "source": [
    "### Implémentation du schéma (Euler explicite) <a class=\"anchor\" id=\"t2\"></a>\n",
    "\n",
    "Le code est paramétré pour retrouver des résultats similaires à l'une des applications numériques de [[1]](http://people.disim.univaq.it/~mdifrance/Preda_predatore_revised). En changeant les conditions initiales avec celles mises dans les commentaires, on peut aussi comparer le modèle discret avec l'un des exemples en continu de [[2]](https://arxiv.org/pdf/1912.06423.pdf).\n",
    "\n",
    "**Remarque sur une partie du code à revoir :** Les étapes de la forme _norm1Diff = norm1Diff * (norm1Diff>0) + 1 * (norm1Diff==0)_ servent à éviter les divisions par $0$. Ça n'est peut être pas une bonne façon de contourner le problème (et on peut certainement faire mieux d'un point de vue complexité). A priori, le résultat est quand même bon si les interactions interespèces et intraespèces sont définies comme étant nulles en $0$. C'est une hypothèse qui est faite dans le modèle continu associé dans [[2]](https://arxiv.org/pdf/1912.06423.pdf)."
   ]
  },
  {
   "cell_type": "code",
   "execution_count": 3,
   "id": "2009a500",
   "metadata": {},
   "outputs": [
    {
     "data": {
      "image/png": "[encoded data removed]",
      "text/plain": [
       "<Figure size 432x288 with 1 Axes>"
      ]
     },
     "metadata": {
      "needs_background": "light"
     },
     "output_type": "display_data"
    }
   ],
   "source": [
    "# Paramètres sauvegardes :\n",
    "cnt     = 0 # Compteur boucle\n",
    "cnt_sav = 0 # Compteur sauvegardes\n",
    "sav     = 10 # Pas de sauvegarde\n",
    "\n",
    "# Création du fichier pour la sauvegarde des figures :\n",
    "if not os.path.exists('./figures6'):\n",
    "    os.makedirs('./figures6')\n",
    "\n",
    "for n,k in enumerate(linspace(0,T,nT+1)):\n",
    "\n",
    "    ## Interactions des prédateurs\n",
    "    x1Diff = matl.repmat(x1,1,N1) - matl.repmat(x1.T,N1,1)\n",
    "    y1Diff = matl.repmat(y1,1,N1) - matl.repmat(y1.T,N1,1)\n",
    "    norm1Diff = sqrt( x1Diff**2 + y1Diff**2 )\n",
    "    # Pour éviter les divisions par 0 :\n",
    "    norm1Diff = norm1Diff*(norm1Diff>0)+1*(norm1Diff==0)\n",
    "    dxS1 = x1Diff * s1prime(norm1Diff) / norm1Diff\n",
    "    dyS1 = y1Diff * s1prime(norm1Diff) / norm1Diff\n",
    "    \n",
    "    ## Interactions interespèces\n",
    "    x1x2Diff = matl.repmat(x1,1,N2) - matl.repmat(x2.T,N1,1)\n",
    "    y1y2Diff = matl.repmat(y1,1,N2) - matl.repmat(y2.T,N1,1)\n",
    "    norm12Diff = sqrt( x1x2Diff**2 + y1y2Diff**2 )\n",
    "    # Pour éviter les divisions par 0 :\n",
    "    norm12Diff = norm12Diff*(norm12Diff>0)+1*(norm12Diff==0)\n",
    "    dxK = x1x2Diff * kprime(norm12Diff) / norm12Diff\n",
    "    dyK = y1y2Diff * kprime(norm12Diff) / norm12Diff\n",
    "    \n",
    "    ## Interactions des proies\n",
    "    x2Diff = matl.repmat(x2,1,N2) - matl.repmat(x2.T,N2,1)\n",
    "    y2Diff = matl.repmat(y2,1,N2) - matl.repmat(y2.T,N2,1)\n",
    "    norm2Diff = sqrt( x2Diff**2 + y2Diff**2 )\n",
    "    # Pour éviter les divisions par 0 :\n",
    "    norm2Diff = norm2Diff*(norm2Diff>0)+1*(norm2Diff==0)\n",
    "    dxS2 = x2Diff * s2prime(norm2Diff) / norm2Diff\n",
    "    dyS2 = y2Diff * s2prime(norm2Diff) / norm2Diff  \n",
    "    \n",
    "    # Calcul des sommes du système différentiel :\n",
    "    dx1 = - sum(dxS1, axis=1)/N1 - sum(dxK, axis=1)/N2\n",
    "    dy1 = - sum(dyS1, axis=1)/N1 - sum(dyK, axis=1)/N2\n",
    "    dx2 = - sum(dxS2, axis=1)/N2 - alpha * sum(dxK.T, axis=1)/N1\n",
    "    dy2 = - sum(dyS2, axis=1)/N2 - alpha * sum(dyK.T, axis=1)/N1\n",
    "       \n",
    "    # Evolution des positions (via Euler explicite)\n",
    "    x1 += dt*dx1.reshape(N1,1)\n",
    "    y1 += dt*dy1.reshape(N1,1)\n",
    "    x2 += dt*dx2.reshape(N2,1)\n",
    "    y2 += dt*dy2.reshape(N2,1)\n",
    "   \n",
    "    # Sauvegarde de la solution à chaque pas de sauvegarde :\n",
    "    if (cnt%sav == 0):\n",
    "        # Plot the data \n",
    "        clf() # Efface la figure courante\n",
    "        plot(x1, y1, 'b.', label=\"prédateurs\")\n",
    "        plot(x2, y2, 'r.', label=\"proies\")\n",
    "        plt.legend(loc=\"upper right\")\n",
    "        #plt.xlim([0, .5])\n",
    "        #plt.ylim([0, .5])\n",
    "        plt.gca().set_aspect(\"equal\", adjustable=\"box\")\n",
    "        plt.title(\"t = \"+str(round(k,3)))\n",
    "        savefig('figures6/{:03d}.pdf'.format(cnt_sav))\n",
    "        cnt_sav += 1\n",
    "\n",
    "    cnt +=1"
   ]
  },
  {
   "cell_type": "markdown",
   "id": "f99edd95",
   "metadata": {},
   "source": [
    "En prenant des conditions initiales sur une droite, on peut aussi comparer les résultats à ceux obtenus avec le modèle continu en 1D. Pour compter les points sur un axe et former des histogrammes, on peut avoir recours à la fonction _hist_ de _matplotlib.pyplot_."
   ]
  }
 ],
 "metadata": {
  "kernelspec": {
   "display_name": "Python 3",
   "language": "python",
   "name": "python3"
  },
  "language_info": {
   "codemirror_mode": {
    "name": "ipython",
    "version": 3
   },
   "file_extension": ".py",
   "mimetype": "text/x-python",
   "name": "python",
   "nbconvert_exporter": "python",
   "pygments_lexer": "ipython3",
   "version": "3.8.5"
  }
 },
 "nbformat": 4,
 "nbformat_minor": 5
}
