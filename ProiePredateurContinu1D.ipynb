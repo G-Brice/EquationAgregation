{
 "cells": [
  {
   "cell_type": "markdown",
   "id": "d488331a",
   "metadata": {},
   "source": [
    "# Résolution du modèle proie-prédateur dérivé de l'équation d'agrégation\n",
    "\n",
    "Il s'agit de résoudre un problème similaire à l'équation d'agrégation, sauf qu'ici on prend en compte le couplage entre deux groupes d'individus (des proies et des prédateurs). Le but est alors de résoudre le problème suivant :\n",
    "\n",
    "$$\n",
    "\\begin{cases}\n",
    "\\partial_t\\rho_1 + \\partial_x (\\rho_1(W_1' * \\rho_1+K'*\\rho_2)) &= 0, \\\\\n",
    "\\partial_t\\rho_2 + \\partial_x (\\rho_2(W_2' * \\rho_2-\\beta K'*\\rho_1)) &= 0, \\\\\n",
    "\\rho_1(0,.) &= \\rho_1^{\\text{ini}}, \\\\\n",
    "\\rho_2(0,.) &= \\rho_2^{\\text{ini}}, \\\\\n",
    "\\end{cases}\n",
    "$$\n",
    "\n",
    "où $\\rho_1$ et $\\rho_2$ sont des mesures de probabilité paramétrées par le temps. Pour résoudre ce problème, on va utiliser le schéma présenté plus en détail dans [[1]](https://arxiv.org/pdf/1912.06423.pdf) et [[2]](https://arxiv.org/pdf/1602.05746.pdf).\n",
    "\n",
    "Pour rappel, il prend la forme suivante :\n",
    "\n",
    "$$ \\begin{cases}\n",
    "\\rho_{1i}^{n+1}=\\rho_{1i}^{n}-\\frac{\\Delta_t}{\\Delta_x}(\\mathcal{F}_{1~i+1/2}^n-\\mathcal{F}_{1~i-1/2}^n), \\\\\n",
    "\\rho_{2i}^{n+1}=\\rho_{2i}^{n}-\\frac{\\Delta_t}{\\Delta_x}(\\mathcal{F}_{2~i+1/2}^n-\\mathcal{F}_{2~i-1/2}^n). \\\\\n",
    "\\end{cases}$$\n",
    "\n",
    "Les flux numériques utilisés sont :\n",
    "$$\\begin{cases}\n",
    "\\mathcal{F}_{1~i+1/2}=(a_{1i}^n)^+\\rho_{1i}^n-(a_{1i+1}^n)^-\\rho_{1i+1}^n, \\\\ \n",
    "\\mathcal{F}_{2~i+1/2}=(a_{2i}^n)^+\\rho_{2i}^n-(a_{2i+1}^n)^-\\rho_{2i+1}^n, \\\\\n",
    "\\end{cases}$$\n",
    "avec \n",
    "$$\\begin{cases} a_{1i}^n=-\\sum_{l}(\\rho_{1l}^n W_1'(x_i-x_l)+\\rho_{2l}^n K'(x_i-x_l)),\\\\\n",
    "a_{2i}^n=-\\sum_{l}(\\rho_{2l}^n W_2'(x_i-x_l)-\\beta\\rho_{1l}^n K'(x_i-x_l)).\\\\\n",
    "\\end{cases}$$"
   ]
  },
  {
   "cell_type": "markdown",
   "id": "704d4c58",
   "metadata": {},
   "source": [
    "## Sommaire :\n",
    "* [Paramètres/fonctions du problème](#t1)\n",
    "* [Implémentation du schéma](#t2)"
   ]
  },
  {
   "cell_type": "code",
   "execution_count": 1,
   "id": "d7ea5263",
   "metadata": {},
   "outputs": [],
   "source": [
    "# Importations :\n",
    "import numpy as np\n",
    "import matplotlib.pyplot as plt\n",
    "import os"
   ]
  },
  {
   "cell_type": "markdown",
   "id": "d1bb7a1c",
   "metadata": {},
   "source": [
    "### Définition des paramètres et fonctions du problème <a class=\"anchor\" id=\"t1\"></a>"
   ]
  },
  {
   "cell_type": "code",
   "execution_count": 2,
   "id": "69bf596e",
   "metadata": {},
   "outputs": [],
   "source": [
    "# Potentiel d'interaction W1 et sa dérivée :\n",
    "W1   = lambda x : np.abs(x)  # Potentiel d'interaction\n",
    "dxW1 = lambda x : np.sign(x) # Dérivée de W1\n",
    "\n",
    "# Potentiel d'interaction W2 et sa dérivée :\n",
    "W2   = lambda x : np.abs(x)  # Potentiel d'interaction\n",
    "dxW2 = lambda x : np.sign(x) # Dérivée de W2\n",
    "\n",
    "# Potentiel d'interaction K et sa dérivée :\n",
    "K   = lambda x : np.abs(x)  # Potentiel d'interaction\n",
    "dxK = lambda x : np.sign(x) # Dérivée de K\n",
    "\n",
    "# Fonctions pour initialiser la solution :\n",
    "rho1_ini = lambda x : 1.*(x>-0.99)*(x<-0.98)\n",
    "rho2_ini = lambda x : 1.*(x>-0.05)*(x<0.05)\n",
    "\n",
    "# Définition de la grille spatiale :\n",
    "xmin = -1  # Borne de gauche du domaine\n",
    "xmax = 1   # Borne de droite du domaine\n",
    "Nx   = 256 # Nombre de points de la discrétisation en espace\n",
    "grid = np.linspace(xmin, xmax, Nx) # Grille\n",
    "Dx   = grid[1]-grid[0] # Pas d'espace\n",
    "\n",
    "# Discrétisation en temps :\n",
    "Nt = 1000 # Nombre de points de la discrétisation en temps\n",
    "tf = 2    # Temps final\n",
    "T = np.linspace(0, tf, Nt) # Temps discrets\n",
    "Dt = T[1]-T[0] # Pas de temps\n",
    "\n",
    "beta = .3 # Vitesse des proies"
   ]
  },
  {
   "cell_type": "markdown",
   "id": "5da296b7",
   "metadata": {},
   "source": [
    "### Implémentation du schéma <a class=\"anchor\" id=\"t2\"></a>"
   ]
  },
  {
   "cell_type": "code",
   "execution_count": 3,
   "id": "a6f7e398",
   "metadata": {},
   "outputs": [
    {
     "data": {
      "image/png": "[encoded data removed]",
      "text/plain": [
       "<Figure size 432x288 with 1 Axes>"
      ]
     },
     "metadata": {
      "needs_background": "light"
     },
     "output_type": "display_data"
    },
    {
     "data": {
      "image/png": "[encoded data removed]",
      "text/plain": [
       "<Figure size 432x288 with 1 Axes>"
      ]
     },
     "metadata": {
      "needs_background": "light"
     },
     "output_type": "display_data"
    }
   ],
   "source": [
    "# Création du fichier pour la sauvegarde des figures :\n",
    "if not os.path.exists('./figures4'):\n",
    "    os.makedirs('./figures4')\n",
    "\n",
    "# Matrices pour contenir les potentiels :\n",
    "W1p = dxW1(np.tile(grid.reshape((Nx, 1)), (1, Nx)) - grid)\n",
    "W2p = dxW2(np.tile(grid.reshape((Nx, 1)), (1, Nx)) - grid)\n",
    "Kp  = dxK(np.tile(grid.reshape((Nx, 1)), (1, Nx)) - grid)\n",
    "\n",
    "# Initialisation rho1 :\n",
    "rho1  = rho1_ini(grid)\n",
    "s1    = sum(rho1)\n",
    "rho1 /= s1 # Normalisation\n",
    "\n",
    "# Initialisation rho2 :\n",
    "rho2  = rho2_ini(grid)\n",
    "s2    = sum(rho2)\n",
    "rho2 /= s2 # Normalisation\n",
    "\n",
    "# Plot de la condition initiale :\n",
    "plt.plot(grid, rho1, label=r\"$\\rho_1$\")\n",
    "plt.plot(grid, rho2, label=r\"$\\rho_2$\")\n",
    "plt.legend()\n",
    "plt.title(\"Condition initiale\")\n",
    "plt.show()\n",
    "\n",
    "# Contrôle des intégrales :\n",
    "#print(\"Masse totale initiale rho_1 :\", sum(rho1))\n",
    "#print(\"Masse totale initiale rho_2 :\", sum(rho2))\n",
    "\n",
    "# Variables pour vitesses macroscopiques & variables intermédiaires :\n",
    "\n",
    "a1 = np.zeros(Nx) # Pour la vitesse macroscopique a1\n",
    "rho1_dp = np.zeros(Nx) # Pour contenir un vecteur \"avec décalage\"\n",
    "rho1_gm = np.zeros(Nx) # Pour contenir un vecteur \"avec décalage\"\n",
    "\n",
    "a2 = np.zeros(Nx) # Pour la vitesse macroscopique a2\n",
    "rho2_dp = np.zeros(Nx) # Pour contenir un vecteur \"avec décalage\"\n",
    "rho2_gm = np.zeros(Nx) # Pour contenir un vecteur \"avec décalage\"\n",
    "\n",
    "# Boucle de résolution :\n",
    "cpt = 0 # Nombre de sauvegardes\n",
    "for n,t in enumerate(T):\n",
    "\n",
    "    # Calcul de la vitesse macroscopique a1 :\n",
    "    a1 = - (np.dot(W1p, rho1) + np.dot(Kp, rho2))\n",
    "    \n",
    "    # Calcul de la vitesse macroscopique a1 :\n",
    "    a2 = - (np.dot(W2p, rho2) - beta * np.dot(Kp, rho1))\n",
    "    \n",
    "    # Mise à jour de rho1 :\n",
    "    a1p = a1*(a1>=0)  # Partie positive de a1\n",
    "    a1m = -a1*(a1<=0) # Partie négative de a1\n",
    "    rho1_dp[1:]  = a1p[:-1]*rho1[:-1]\n",
    "    rho1_gm[:-1] = a1m[1:]*rho1[1:]\n",
    "    rho1 -= Dt/Dx*(a1p*rho1+a1m*rho1-rho1_dp-rho1_gm)\n",
    "    \n",
    "    # Mise à jour de rho2 :\n",
    "    a2p = a2*(a2>=0)  # Partie positive de a2\n",
    "    a2m = -a2*(a2<=0) # Partie négative de a2\n",
    "    rho2_dp[1:]  = a2p[:-1]*rho2[:-1]\n",
    "    rho2_gm[:-1] = a2m[1:]*rho2[1:]\n",
    "    rho2 -= Dt/Dx*(a2p*rho2+a2m*rho2-rho2_dp-rho2_gm)\n",
    "    \n",
    "    # Pour un affichage de la solution à intervalles réguliers :\n",
    "    if (not n%10):\n",
    "        cpt += 1\n",
    "        plt.plot(grid, rho1, label=r\"prédateurs $\\rho_1$\")\n",
    "        plt.plot(grid, rho2, label=r\"proies $\\rho_2$\")\n",
    "        plt.ylim([0, 1.1])\n",
    "        plt.title(\"t = \"+str(round(t,2)))\n",
    "        plt.legend()\n",
    "        plt.savefig(\"./figures4/etape\"+str(cpt)+\".pdf\", facecolor='white', transparent=False)\n",
    "        plt.clf()\n",
    "        # plt.show()\n",
    "        # Contrôle des intégrales :\n",
    "        #print(\"Masse totale initiale rho_1 :\", sum(rho1))\n",
    "        #print(\"Masse totale initiale rho_2 :\", sum(rho2))\n",
    "        \n",
    "# Plot de la condition initiale :\n",
    "plt.plot(grid, rho1, label=r\"$\\rho_1$\")\n",
    "plt.plot(grid, rho2, label=r\"$\\rho_2$\")\n",
    "plt.legend()\n",
    "plt.title(\"Solution à t=\"+str(round(t, 2)))\n",
    "plt.show()"
   ]
  },
  {
   "cell_type": "markdown",
   "id": "585d05ec",
   "metadata": {},
   "source": [
    "**Remarques :** \n",
    "- Pour vérifier que le schéma est conservatif, il est équivalent de contrôler la masse _Dx * s1 * sum(rho1)_ ou simplement _sum(rho1)_ ; c'est la même chose à un facteur près.\n",
    "- Dans le notebook sur l'équation d'agrégation, on constatait qu'une masse de Dirac correspondait à la concentration de toute la masse dans deux cellules, si bien qu'on ne dépassait jamais 0.5 pour la hauteur de la solution normalisée. Ici on constate qu'on peut monter jusqu'à 1. Alors soit l'un des codes comporte une erreur, soit une masse de Dirac peut être concentrée par le schéma dans une ou deux cellules selon les cas."
   ]
  }
 ],
 "metadata": {
  "kernelspec": {
   "display_name": "Python 3",
   "language": "python",
   "name": "python3"
  },
  "language_info": {
   "codemirror_mode": {
    "name": "ipython",
    "version": 3
   },
   "file_extension": ".py",
   "mimetype": "text/x-python",
   "name": "python",
   "nbconvert_exporter": "python",
   "pygments_lexer": "ipython3",
   "version": "3.8.5"
  }
 },
 "nbformat": 4,
 "nbformat_minor": 5
}
